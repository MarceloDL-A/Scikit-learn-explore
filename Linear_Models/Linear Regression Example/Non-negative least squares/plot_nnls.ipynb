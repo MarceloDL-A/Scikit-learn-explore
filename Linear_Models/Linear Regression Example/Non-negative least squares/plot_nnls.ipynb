{
  "cells": [
    {
      "cell_type": "code",
      "execution_count": 2,
      "metadata": {
        "collapsed": false
      },
      "outputs": [],
      "source": [
        "%matplotlib inline"
      ]
    },
    {
      "cell_type": "markdown",
      "metadata": {},
      "source": [
        "\n",
        "# Non-negative least squares\n",
        "\n",
        "In this example, we fit a linear model with positive constraints on the\n",
        "regression coefficients and compare the estimated coefficients to a classic\n",
        "linear regression.\n"
      ]
    },
    {
      "cell_type": "code",
      "execution_count": 3,
      "metadata": {
        "collapsed": false
      },
      "outputs": [],
      "source": [
        "import numpy as np\n",
        "import matplotlib.pyplot as plt\n",
        "from sklearn.metrics import r2_score"
      ]
    },
    {
      "cell_type": "markdown",
      "metadata": {},
      "source": [
        "Generate some random data\n",
        "\n"
      ]
    },
    {
      "cell_type": "code",
      "execution_count": 4,
      "metadata": {
        "collapsed": false
      },
      "outputs": [],
      "source": [
        "np.random.seed(42)\n",
        "\n",
        "n_samples, n_features = 200, 50\n",
        "X = np.random.randn(n_samples, n_features)\n",
        "true_coef = 3 * np.random.randn(n_features)\n",
        "# Threshold coefficients to render them non-negative\n",
        "true_coef[true_coef < 0] = 0\n",
        "y = np.dot(X, true_coef)\n",
        "\n",
        "# Add some noise\n",
        "y += 5 * np.random.normal(size=(n_samples,))"
      ]
    },
    {
      "cell_type": "markdown",
      "metadata": {},
      "source": [
        "Split the data in train set and test set\n",
        "\n"
      ]
    },
    {
      "cell_type": "code",
      "execution_count": 5,
      "metadata": {
        "collapsed": false
      },
      "outputs": [],
      "source": [
        "from sklearn.model_selection import train_test_split\n",
        "\n",
        "X_train, X_test, y_train, y_test = train_test_split(X, y, test_size=0.5)"
      ]
    },
    {
      "cell_type": "markdown",
      "metadata": {},
      "source": [
        "Fit the Non-Negative least squares.\n",
        "\n"
      ]
    },
    {
      "cell_type": "code",
      "execution_count": 6,
      "metadata": {
        "collapsed": false
      },
      "outputs": [
        {
          "name": "stdout",
          "output_type": "stream",
          "text": [
            "NNLS R2 score 0.8225220806196525\n"
          ]
        }
      ],
      "source": [
        "from sklearn.linear_model import LinearRegression\n",
        "\n",
        "reg_nnls = LinearRegression(positive=True)\n",
        "y_pred_nnls = reg_nnls.fit(X_train, y_train).predict(X_test)\n",
        "r2_score_nnls = r2_score(y_test, y_pred_nnls)\n",
        "print(\"NNLS R2 score\", r2_score_nnls)"
      ]
    },
    {
      "cell_type": "markdown",
      "metadata": {},
      "source": [
        "Fit an OLS.\n",
        "\n"
      ]
    },
    {
      "cell_type": "code",
      "execution_count": 7,
      "metadata": {
        "collapsed": false
      },
      "outputs": [
        {
          "name": "stdout",
          "output_type": "stream",
          "text": [
            "OLS R2 score 0.7436926291700348\n"
          ]
        }
      ],
      "source": [
        "reg_ols = LinearRegression()\n",
        "y_pred_ols = reg_ols.fit(X_train, y_train).predict(X_test)\n",
        "r2_score_ols = r2_score(y_test, y_pred_ols)\n",
        "print(\"OLS R2 score\", r2_score_ols)"
      ]
    },
    {
      "cell_type": "markdown",
      "metadata": {},
      "source": [
        "Comparing the regression coefficients between OLS and NNLS, we can observe\n",
        "they are highly correlated (the dashed line is the identity relation),\n",
        "but the non-negative constraint shrinks some to 0.\n",
        "The Non-Negative Least squares inherently yield sparse results.\n",
        "\n"
      ]
    },
    {
      "cell_type": "code",
      "execution_count": 8,
      "metadata": {
        "collapsed": false
      },
      "outputs": [
        {
          "data": {
            "text/plain": [
              "Text(0, 0.5, 'NNLS regression coefficients')"
            ]
          },
          "execution_count": 8,
          "metadata": {},
          "output_type": "execute_result"
        },
        {
          "data": {
            "image/png": "[encoded data removed]",
            "text/plain": [
              "<Figure size 432x288 with 1 Axes>"
            ]
          },
          "metadata": {
            "needs_background": "light"
          },
          "output_type": "display_data"
        }
      ],
      "source": [
        "fig, ax = plt.subplots()\n",
        "ax.plot(reg_ols.coef_, reg_nnls.coef_, linewidth=0, marker=\".\")\n",
        "\n",
        "low_x, high_x = ax.get_xlim()\n",
        "low_y, high_y = ax.get_ylim()\n",
        "low = max(low_x, low_y)\n",
        "high = min(high_x, high_y)\n",
        "ax.plot([low, high], [low, high], ls=\"--\", c=\".3\", alpha=0.5)\n",
        "ax.set_xlabel(\"OLS regression coefficients\", fontweight=\"bold\")\n",
        "ax.set_ylabel(\"NNLS regression coefficients\", fontweight=\"bold\")"
      ]
    }
  ],
  "metadata": {
    "kernelspec": {
      "display_name": "Python 3",
      "language": "python",
      "name": "python3"
    },
    "language_info": {
      "codemirror_mode": {
        "name": "ipython",
        "version": 3
      },
      "file_extension": ".py",
      "mimetype": "text/x-python",
      "name": "python",
      "nbconvert_exporter": "python",
      "pygments_lexer": "ipython3",
      "version": "3.9.6"
    }
  },
  "nbformat": 4,
  "nbformat_minor": 0
}
